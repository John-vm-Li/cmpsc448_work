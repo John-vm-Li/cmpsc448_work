{
 "metadata": {
  "language_info": {
   "codemirror_mode": {
    "name": "ipython",
    "version": 3
   },
   "file_extension": ".py",
   "mimetype": "text/x-python",
   "name": "python",
   "nbconvert_exporter": "python",
   "pygments_lexer": "ipython3",
   "version": "3.9.1-final"
  },
  "orig_nbformat": 2,
  "kernelspec": {
   "name": "python391jvsc74a57bd02b9f1ee44537793090571f2e49c83911a687c4a6112f2d17296ae2f062e01aa7",
   "display_name": "Python 3.9.1 64-bit"
  },
  "metadata": {
   "interpreter": {
    "hash": "2b9f1ee44537793090571f2e49c83911a687c4a6112f2d17296ae2f062e01aa7"
   }
  }
 },
 "nbformat": 4,
 "nbformat_minor": 2,
 "cells": [
  {
   "cell_type": "code",
   "execution_count": 1,
   "metadata": {},
   "outputs": [],
   "source": [
    "from sklearn.model_selection import train_test_split \n",
    "from sklearn.metrics import accuracy_score \n",
    "from sklearn.datasets import load_svmlight_file\n",
    "from sklearn.model_selection import GridSearchCV\n",
    "from sklearn.model_selection import KFold\n",
    "from sklearn.model_selection import cross_val_score\n",
    "\n",
    "\n",
    "from sklearn.ensemble import RandomForestClassifier"
   ]
  },
  {
   "cell_type": "code",
   "execution_count": 2,
   "metadata": {},
   "outputs": [],
   "source": [
    "# load data in LibSVM sparse data format\n",
    "training_data = load_svmlight_file(r\"C:\\Users\\ameya\\Documents\\projects\\cmpsc448_work\\HW4\\a9a.txt\")\n",
    "X_train = training_data[0]\n",
    "y_train = training_data[1]"
   ]
  },
  {
   "cell_type": "code",
   "execution_count": 4,
   "metadata": {},
   "outputs": [],
   "source": [
    "testing_data = load_svmlight_file(r\"C:\\Users\\ameya\\Documents\\projects\\cmpsc448_work\\HW4\\a9a.t\")\n",
    "X_test = testing_data[0]\n",
    "y_test = testing_data[1]"
   ]
  },
  {
   "cell_type": "code",
   "execution_count": 3,
   "metadata": {},
   "outputs": [
    {
     "output_type": "execute_result",
     "data": {
      "text/plain": [
       "RandomForestClassifier()"
      ]
     },
     "metadata": {},
     "execution_count": 3
    }
   ],
   "source": [
    "model = RandomForestClassifier()\n",
    "model.fit(X_train, y_train)"
   ]
  },
  {
   "cell_type": "code",
   "execution_count": 5,
   "metadata": {},
   "outputs": [],
   "source": [
    "#  create sets of values for different hyperparameters \n",
    "n_estimators = [50, 100, 200, 300]\n",
    "bootstrap = [True, False]\n",
    "max_depth = [10 ,50, 100]\n",
    "min_impurity_decrease = [0.0, 0.05, 0.1]\n",
    "min_samples_leaf = [1, 5, 10]\n",
    "\n",
    "param_grid = dict(n_estimators = n_estimators, bootstrap = bootstrap, max_depth = max_depth, min_impurity_decrease = min_impurity_decrease, min_samples_leaf = min_samples_leaf)"
   ]
  },
  {
   "cell_type": "code",
   "execution_count": 6,
   "metadata": {
    "tags": [
     "outputPrepend"
    ]
   },
   "outputs": [
    {
     "output_type": "stream",
     "name": "stdout",
     "text": [
      "lse, max_depth=50, min_impurity_decrease=0.05, min_samples_leaf=5, n_estimators=200; total time=   1.1s\n",
      "[CV] END bootstrap=False, max_depth=50, min_impurity_decrease=0.05, min_samples_leaf=5, n_estimators=300; total time=   1.6s\n",
      "[CV] END bootstrap=False, max_depth=50, min_impurity_decrease=0.05, min_samples_leaf=5, n_estimators=300; total time=   1.4s\n",
      "[CV] END bootstrap=False, max_depth=50, min_impurity_decrease=0.05, min_samples_leaf=5, n_estimators=300; total time=   1.4s\n",
      "[CV] END bootstrap=False, max_depth=50, min_impurity_decrease=0.05, min_samples_leaf=10, n_estimators=50; total time=   0.2s\n",
      "[CV] END bootstrap=False, max_depth=50, min_impurity_decrease=0.05, min_samples_leaf=10, n_estimators=50; total time=   0.3s\n",
      "[CV] END bootstrap=False, max_depth=50, min_impurity_decrease=0.05, min_samples_leaf=10, n_estimators=50; total time=   0.3s\n",
      "[CV] END bootstrap=False, max_depth=50, min_impurity_decrease=0.05, min_samples_leaf=10, n_estimators=100; total time=   0.5s\n",
      "[CV] END bootstrap=False, max_depth=50, min_impurity_decrease=0.05, min_samples_leaf=10, n_estimators=100; total time=   0.5s\n",
      "[CV] END bootstrap=False, max_depth=50, min_impurity_decrease=0.05, min_samples_leaf=10, n_estimators=100; total time=   0.4s\n",
      "[CV] END bootstrap=False, max_depth=50, min_impurity_decrease=0.05, min_samples_leaf=10, n_estimators=200; total time=   1.0s\n",
      "[CV] END bootstrap=False, max_depth=50, min_impurity_decrease=0.05, min_samples_leaf=10, n_estimators=200; total time=   1.2s\n",
      "[CV] END bootstrap=False, max_depth=50, min_impurity_decrease=0.05, min_samples_leaf=10, n_estimators=200; total time=   1.2s\n",
      "[CV] END bootstrap=False, max_depth=50, min_impurity_decrease=0.05, min_samples_leaf=10, n_estimators=300; total time=   1.6s\n",
      "[CV] END bootstrap=False, max_depth=50, min_impurity_decrease=0.05, min_samples_leaf=10, n_estimators=300; total time=   1.4s\n",
      "[CV] END bootstrap=False, max_depth=50, min_impurity_decrease=0.05, min_samples_leaf=10, n_estimators=300; total time=   1.6s\n",
      "[CV] END bootstrap=False, max_depth=50, min_impurity_decrease=0.1, min_samples_leaf=1, n_estimators=50; total time=   0.2s\n",
      "[CV] END bootstrap=False, max_depth=50, min_impurity_decrease=0.1, min_samples_leaf=1, n_estimators=50; total time=   0.1s\n",
      "[CV] END bootstrap=False, max_depth=50, min_impurity_decrease=0.1, min_samples_leaf=1, n_estimators=50; total time=   0.2s\n",
      "[CV] END bootstrap=False, max_depth=50, min_impurity_decrease=0.1, min_samples_leaf=1, n_estimators=100; total time=   0.5s\n",
      "[CV] END bootstrap=False, max_depth=50, min_impurity_decrease=0.1, min_samples_leaf=1, n_estimators=100; total time=   0.5s\n",
      "[CV] END bootstrap=False, max_depth=50, min_impurity_decrease=0.1, min_samples_leaf=1, n_estimators=100; total time=   0.6s\n",
      "[CV] END bootstrap=False, max_depth=50, min_impurity_decrease=0.1, min_samples_leaf=1, n_estimators=200; total time=   0.9s\n",
      "[CV] END bootstrap=False, max_depth=50, min_impurity_decrease=0.1, min_samples_leaf=1, n_estimators=200; total time=   1.0s\n",
      "[CV] END bootstrap=False, max_depth=50, min_impurity_decrease=0.1, min_samples_leaf=1, n_estimators=200; total time=   1.2s\n",
      "[CV] END bootstrap=False, max_depth=50, min_impurity_decrease=0.1, min_samples_leaf=1, n_estimators=300; total time=   1.6s\n",
      "[CV] END bootstrap=False, max_depth=50, min_impurity_decrease=0.1, min_samples_leaf=1, n_estimators=300; total time=   1.3s\n",
      "[CV] END bootstrap=False, max_depth=50, min_impurity_decrease=0.1, min_samples_leaf=1, n_estimators=300; total time=   1.3s\n",
      "[CV] END bootstrap=False, max_depth=50, min_impurity_decrease=0.1, min_samples_leaf=5, n_estimators=50; total time=   0.2s\n",
      "[CV] END bootstrap=False, max_depth=50, min_impurity_decrease=0.1, min_samples_leaf=5, n_estimators=50; total time=   0.1s\n",
      "[CV] END bootstrap=False, max_depth=50, min_impurity_decrease=0.1, min_samples_leaf=5, n_estimators=50; total time=   0.2s\n",
      "[CV] END bootstrap=False, max_depth=50, min_impurity_decrease=0.1, min_samples_leaf=5, n_estimators=100; total time=   0.4s\n",
      "[CV] END bootstrap=False, max_depth=50, min_impurity_decrease=0.1, min_samples_leaf=5, n_estimators=100; total time=   0.4s\n",
      "[CV] END bootstrap=False, max_depth=50, min_impurity_decrease=0.1, min_samples_leaf=5, n_estimators=100; total time=   0.7s\n",
      "[CV] END bootstrap=False, max_depth=50, min_impurity_decrease=0.1, min_samples_leaf=5, n_estimators=200; total time=   1.0s\n",
      "[CV] END bootstrap=False, max_depth=50, min_impurity_decrease=0.1, min_samples_leaf=5, n_estimators=200; total time=   0.9s\n",
      "[CV] END bootstrap=False, max_depth=50, min_impurity_decrease=0.1, min_samples_leaf=5, n_estimators=200; total time=   0.9s\n",
      "[CV] END bootstrap=False, max_depth=50, min_impurity_decrease=0.1, min_samples_leaf=5, n_estimators=300; total time=   1.4s\n",
      "[CV] END bootstrap=False, max_depth=50, min_impurity_decrease=0.1, min_samples_leaf=5, n_estimators=300; total time=   2.0s\n",
      "[CV] END bootstrap=False, max_depth=50, min_impurity_decrease=0.1, min_samples_leaf=5, n_estimators=300; total time=   1.4s\n",
      "[CV] END bootstrap=False, max_depth=50, min_impurity_decrease=0.1, min_samples_leaf=10, n_estimators=50; total time=   0.1s\n",
      "[CV] END bootstrap=False, max_depth=50, min_impurity_decrease=0.1, min_samples_leaf=10, n_estimators=50; total time=   0.3s\n",
      "[CV] END bootstrap=False, max_depth=50, min_impurity_decrease=0.1, min_samples_leaf=10, n_estimators=50; total time=   0.2s\n",
      "[CV] END bootstrap=False, max_depth=50, min_impurity_decrease=0.1, min_samples_leaf=10, n_estimators=100; total time=   0.6s\n",
      "[CV] END bootstrap=False, max_depth=50, min_impurity_decrease=0.1, min_samples_leaf=10, n_estimators=100; total time=   0.4s\n",
      "[CV] END bootstrap=False, max_depth=50, min_impurity_decrease=0.1, min_samples_leaf=10, n_estimators=100; total time=   0.6s\n",
      "[CV] END bootstrap=False, max_depth=50, min_impurity_decrease=0.1, min_samples_leaf=10, n_estimators=200; total time=   1.2s\n",
      "[CV] END bootstrap=False, max_depth=50, min_impurity_decrease=0.1, min_samples_leaf=10, n_estimators=200; total time=   0.8s\n",
      "[CV] END bootstrap=False, max_depth=50, min_impurity_decrease=0.1, min_samples_leaf=10, n_estimators=200; total time=   1.0s\n",
      "[CV] END bootstrap=False, max_depth=50, min_impurity_decrease=0.1, min_samples_leaf=10, n_estimators=300; total time=   1.4s\n",
      "[CV] END bootstrap=False, max_depth=50, min_impurity_decrease=0.1, min_samples_leaf=10, n_estimators=300; total time=   1.3s\n",
      "[CV] END bootstrap=False, max_depth=50, min_impurity_decrease=0.1, min_samples_leaf=10, n_estimators=300; total time=   1.4s\n",
      "[CV] END bootstrap=False, max_depth=100, min_impurity_decrease=0.0, min_samples_leaf=1, n_estimators=50; total time=  18.9s\n",
      "[CV] END bootstrap=False, max_depth=100, min_impurity_decrease=0.0, min_samples_leaf=1, n_estimators=50; total time=  19.3s\n",
      "[CV] END bootstrap=False, max_depth=100, min_impurity_decrease=0.0, min_samples_leaf=1, n_estimators=50; total time=  20.2s\n",
      "[CV] END bootstrap=False, max_depth=100, min_impurity_decrease=0.0, min_samples_leaf=1, n_estimators=100; total time=  41.4s\n",
      "[CV] END bootstrap=False, max_depth=100, min_impurity_decrease=0.0, min_samples_leaf=1, n_estimators=100; total time=  37.9s\n",
      "[CV] END bootstrap=False, max_depth=100, min_impurity_decrease=0.0, min_samples_leaf=1, n_estimators=100; total time=  37.1s\n",
      "[CV] END bootstrap=False, max_depth=100, min_impurity_decrease=0.0, min_samples_leaf=1, n_estimators=200; total time= 1.2min\n",
      "[CV] END bootstrap=False, max_depth=100, min_impurity_decrease=0.0, min_samples_leaf=1, n_estimators=200; total time= 1.3min\n",
      "[CV] END bootstrap=False, max_depth=100, min_impurity_decrease=0.0, min_samples_leaf=1, n_estimators=200; total time= 1.4min\n",
      "[CV] END bootstrap=False, max_depth=100, min_impurity_decrease=0.0, min_samples_leaf=1, n_estimators=300; total time= 2.2min\n",
      "[CV] END bootstrap=False, max_depth=100, min_impurity_decrease=0.0, min_samples_leaf=1, n_estimators=300; total time= 2.0min\n",
      "[CV] END bootstrap=False, max_depth=100, min_impurity_decrease=0.0, min_samples_leaf=1, n_estimators=300; total time= 1.8min\n",
      "[CV] END bootstrap=False, max_depth=100, min_impurity_decrease=0.0, min_samples_leaf=5, n_estimators=50; total time=   7.9s\n",
      "[CV] END bootstrap=False, max_depth=100, min_impurity_decrease=0.0, min_samples_leaf=5, n_estimators=50; total time=   7.8s\n",
      "[CV] END bootstrap=False, max_depth=100, min_impurity_decrease=0.0, min_samples_leaf=5, n_estimators=50; total time=   7.5s\n",
      "[CV] END bootstrap=False, max_depth=100, min_impurity_decrease=0.0, min_samples_leaf=5, n_estimators=100; total time=  16.2s\n",
      "[CV] END bootstrap=False, max_depth=100, min_impurity_decrease=0.0, min_samples_leaf=5, n_estimators=100; total time=  16.6s\n",
      "[CV] END bootstrap=False, max_depth=100, min_impurity_decrease=0.0, min_samples_leaf=5, n_estimators=100; total time=  17.1s\n",
      "[CV] END bootstrap=False, max_depth=100, min_impurity_decrease=0.0, min_samples_leaf=5, n_estimators=200; total time=  34.2s\n",
      "[CV] END bootstrap=False, max_depth=100, min_impurity_decrease=0.0, min_samples_leaf=5, n_estimators=200; total time=  30.5s\n",
      "[CV] END bootstrap=False, max_depth=100, min_impurity_decrease=0.0, min_samples_leaf=5, n_estimators=200; total time=  30.8s\n",
      "[CV] END bootstrap=False, max_depth=100, min_impurity_decrease=0.0, min_samples_leaf=5, n_estimators=300; total time=  48.3s\n",
      "[CV] END bootstrap=False, max_depth=100, min_impurity_decrease=0.0, min_samples_leaf=5, n_estimators=300; total time=  46.7s\n",
      "[CV] END bootstrap=False, max_depth=100, min_impurity_decrease=0.0, min_samples_leaf=5, n_estimators=300; total time=  52.4s\n",
      "[CV] END bootstrap=False, max_depth=100, min_impurity_decrease=0.0, min_samples_leaf=10, n_estimators=50; total time=   6.4s\n",
      "[CV] END bootstrap=False, max_depth=100, min_impurity_decrease=0.0, min_samples_leaf=10, n_estimators=50; total time=   7.6s\n",
      "[CV] END bootstrap=False, max_depth=100, min_impurity_decrease=0.0, min_samples_leaf=10, n_estimators=50; total time=   7.9s\n",
      "[CV] END bootstrap=False, max_depth=100, min_impurity_decrease=0.0, min_samples_leaf=10, n_estimators=100; total time=  13.4s\n",
      "[CV] END bootstrap=False, max_depth=100, min_impurity_decrease=0.0, min_samples_leaf=10, n_estimators=100; total time=  13.8s\n",
      "[CV] END bootstrap=False, max_depth=100, min_impurity_decrease=0.0, min_samples_leaf=10, n_estimators=100; total time=  14.3s\n",
      "[CV] END bootstrap=False, max_depth=100, min_impurity_decrease=0.0, min_samples_leaf=10, n_estimators=200; total time=  27.9s\n",
      "[CV] END bootstrap=False, max_depth=100, min_impurity_decrease=0.0, min_samples_leaf=10, n_estimators=200; total time=  26.7s\n",
      "[CV] END bootstrap=False, max_depth=100, min_impurity_decrease=0.0, min_samples_leaf=10, n_estimators=200; total time=  25.0s\n",
      "[CV] END bootstrap=False, max_depth=100, min_impurity_decrease=0.0, min_samples_leaf=10, n_estimators=300; total time=  39.3s\n",
      "[CV] END bootstrap=False, max_depth=100, min_impurity_decrease=0.0, min_samples_leaf=10, n_estimators=300; total time=  37.1s\n",
      "[CV] END bootstrap=False, max_depth=100, min_impurity_decrease=0.0, min_samples_leaf=10, n_estimators=300; total time=  38.2s\n",
      "[CV] END bootstrap=False, max_depth=100, min_impurity_decrease=0.05, min_samples_leaf=1, n_estimators=50; total time=   0.2s\n",
      "[CV] END bootstrap=False, max_depth=100, min_impurity_decrease=0.05, min_samples_leaf=1, n_estimators=50; total time=   0.2s\n",
      "[CV] END bootstrap=False, max_depth=100, min_impurity_decrease=0.05, min_samples_leaf=1, n_estimators=50; total time=   0.2s\n",
      "[CV] END bootstrap=False, max_depth=100, min_impurity_decrease=0.05, min_samples_leaf=1, n_estimators=100; total time=   0.4s\n",
      "[CV] END bootstrap=False, max_depth=100, min_impurity_decrease=0.05, min_samples_leaf=1, n_estimators=100; total time=   0.5s\n",
      "[CV] END bootstrap=False, max_depth=100, min_impurity_decrease=0.05, min_samples_leaf=1, n_estimators=100; total time=   0.4s\n",
      "[CV] END bootstrap=False, max_depth=100, min_impurity_decrease=0.05, min_samples_leaf=1, n_estimators=200; total time=   1.0s\n",
      "[CV] END bootstrap=False, max_depth=100, min_impurity_decrease=0.05, min_samples_leaf=1, n_estimators=200; total time=   1.1s\n",
      "[CV] END bootstrap=False, max_depth=100, min_impurity_decrease=0.05, min_samples_leaf=1, n_estimators=200; total time=   1.0s\n",
      "[CV] END bootstrap=False, max_depth=100, min_impurity_decrease=0.05, min_samples_leaf=1, n_estimators=300; total time=   1.4s\n",
      "[CV] END bootstrap=False, max_depth=100, min_impurity_decrease=0.05, min_samples_leaf=1, n_estimators=300; total time=   1.3s\n",
      "[CV] END bootstrap=False, max_depth=100, min_impurity_decrease=0.05, min_samples_leaf=1, n_estimators=300; total time=   1.3s\n",
      "[CV] END bootstrap=False, max_depth=100, min_impurity_decrease=0.05, min_samples_leaf=5, n_estimators=50; total time=   0.2s\n",
      "[CV] END bootstrap=False, max_depth=100, min_impurity_decrease=0.05, min_samples_leaf=5, n_estimators=50; total time=   0.2s\n",
      "[CV] END bootstrap=False, max_depth=100, min_impurity_decrease=0.05, min_samples_leaf=5, n_estimators=50; total time=   0.2s\n",
      "[CV] END bootstrap=False, max_depth=100, min_impurity_decrease=0.05, min_samples_leaf=5, n_estimators=100; total time=   0.4s\n",
      "[CV] END bootstrap=False, max_depth=100, min_impurity_decrease=0.05, min_samples_leaf=5, n_estimators=100; total time=   0.4s\n",
      "[CV] END bootstrap=False, max_depth=100, min_impurity_decrease=0.05, min_samples_leaf=5, n_estimators=100; total time=   0.5s\n",
      "[CV] END bootstrap=False, max_depth=100, min_impurity_decrease=0.05, min_samples_leaf=5, n_estimators=200; total time=   0.9s\n",
      "[CV] END bootstrap=False, max_depth=100, min_impurity_decrease=0.05, min_samples_leaf=5, n_estimators=200; total time=   1.0s\n",
      "[CV] END bootstrap=False, max_depth=100, min_impurity_decrease=0.05, min_samples_leaf=5, n_estimators=200; total time=   0.9s\n",
      "[CV] END bootstrap=False, max_depth=100, min_impurity_decrease=0.05, min_samples_leaf=5, n_estimators=300; total time=   1.4s\n",
      "[CV] END bootstrap=False, max_depth=100, min_impurity_decrease=0.05, min_samples_leaf=5, n_estimators=300; total time=   1.4s\n",
      "[CV] END bootstrap=False, max_depth=100, min_impurity_decrease=0.05, min_samples_leaf=5, n_estimators=300; total time=   1.3s\n",
      "[CV] END bootstrap=False, max_depth=100, min_impurity_decrease=0.05, min_samples_leaf=10, n_estimators=50; total time=   0.2s\n",
      "[CV] END bootstrap=False, max_depth=100, min_impurity_decrease=0.05, min_samples_leaf=10, n_estimators=50; total time=   0.2s\n",
      "[CV] END bootstrap=False, max_depth=100, min_impurity_decrease=0.05, min_samples_leaf=10, n_estimators=50; total time=   0.2s\n",
      "[CV] END bootstrap=False, max_depth=100, min_impurity_decrease=0.05, min_samples_leaf=10, n_estimators=100; total time=   0.4s\n",
      "[CV] END bootstrap=False, max_depth=100, min_impurity_decrease=0.05, min_samples_leaf=10, n_estimators=100; total time=   0.4s\n",
      "[CV] END bootstrap=False, max_depth=100, min_impurity_decrease=0.05, min_samples_leaf=10, n_estimators=100; total time=   0.5s\n",
      "[CV] END bootstrap=False, max_depth=100, min_impurity_decrease=0.05, min_samples_leaf=10, n_estimators=200; total time=   0.8s\n",
      "[CV] END bootstrap=False, max_depth=100, min_impurity_decrease=0.05, min_samples_leaf=10, n_estimators=200; total time=   0.9s\n",
      "[CV] END bootstrap=False, max_depth=100, min_impurity_decrease=0.05, min_samples_leaf=10, n_estimators=200; total time=   0.9s\n",
      "[CV] END bootstrap=False, max_depth=100, min_impurity_decrease=0.05, min_samples_leaf=10, n_estimators=300; total time=   1.3s\n",
      "[CV] END bootstrap=False, max_depth=100, min_impurity_decrease=0.05, min_samples_leaf=10, n_estimators=300; total time=   1.2s\n",
      "[CV] END bootstrap=False, max_depth=100, min_impurity_decrease=0.05, min_samples_leaf=10, n_estimators=300; total time=   1.3s\n",
      "[CV] END bootstrap=False, max_depth=100, min_impurity_decrease=0.1, min_samples_leaf=1, n_estimators=50; total time=   0.2s\n",
      "[CV] END bootstrap=False, max_depth=100, min_impurity_decrease=0.1, min_samples_leaf=1, n_estimators=50; total time=   0.2s\n",
      "[CV] END bootstrap=False, max_depth=100, min_impurity_decrease=0.1, min_samples_leaf=1, n_estimators=50; total time=   0.2s\n",
      "[CV] END bootstrap=False, max_depth=100, min_impurity_decrease=0.1, min_samples_leaf=1, n_estimators=100; total time=   0.4s\n",
      "[CV] END bootstrap=False, max_depth=100, min_impurity_decrease=0.1, min_samples_leaf=1, n_estimators=100; total time=   0.4s\n",
      "[CV] END bootstrap=False, max_depth=100, min_impurity_decrease=0.1, min_samples_leaf=1, n_estimators=100; total time=   0.3s\n",
      "[CV] END bootstrap=False, max_depth=100, min_impurity_decrease=0.1, min_samples_leaf=1, n_estimators=200; total time=   1.0s\n",
      "[CV] END bootstrap=False, max_depth=100, min_impurity_decrease=0.1, min_samples_leaf=1, n_estimators=200; total time=   1.0s\n",
      "[CV] END bootstrap=False, max_depth=100, min_impurity_decrease=0.1, min_samples_leaf=1, n_estimators=200; total time=   0.9s\n",
      "[CV] END bootstrap=False, max_depth=100, min_impurity_decrease=0.1, min_samples_leaf=1, n_estimators=300; total time=   1.3s\n",
      "[CV] END bootstrap=False, max_depth=100, min_impurity_decrease=0.1, min_samples_leaf=1, n_estimators=300; total time=   1.3s\n",
      "[CV] END bootstrap=False, max_depth=100, min_impurity_decrease=0.1, min_samples_leaf=1, n_estimators=300; total time=   1.2s\n",
      "[CV] END bootstrap=False, max_depth=100, min_impurity_decrease=0.1, min_samples_leaf=5, n_estimators=50; total time=   0.2s\n",
      "[CV] END bootstrap=False, max_depth=100, min_impurity_decrease=0.1, min_samples_leaf=5, n_estimators=50; total time=   0.2s\n",
      "[CV] END bootstrap=False, max_depth=100, min_impurity_decrease=0.1, min_samples_leaf=5, n_estimators=50; total time=   0.3s\n",
      "[CV] END bootstrap=False, max_depth=100, min_impurity_decrease=0.1, min_samples_leaf=5, n_estimators=100; total time=   0.4s\n",
      "[CV] END bootstrap=False, max_depth=100, min_impurity_decrease=0.1, min_samples_leaf=5, n_estimators=100; total time=   0.4s\n",
      "[CV] END bootstrap=False, max_depth=100, min_impurity_decrease=0.1, min_samples_leaf=5, n_estimators=100; total time=   0.4s\n",
      "[CV] END bootstrap=False, max_depth=100, min_impurity_decrease=0.1, min_samples_leaf=5, n_estimators=200; total time=   0.9s\n",
      "[CV] END bootstrap=False, max_depth=100, min_impurity_decrease=0.1, min_samples_leaf=5, n_estimators=200; total time=   0.8s\n",
      "[CV] END bootstrap=False, max_depth=100, min_impurity_decrease=0.1, min_samples_leaf=5, n_estimators=200; total time=   0.8s\n",
      "[CV] END bootstrap=False, max_depth=100, min_impurity_decrease=0.1, min_samples_leaf=5, n_estimators=300; total time=   1.4s\n",
      "[CV] END bootstrap=False, max_depth=100, min_impurity_decrease=0.1, min_samples_leaf=5, n_estimators=300; total time=   1.3s\n",
      "[CV] END bootstrap=False, max_depth=100, min_impurity_decrease=0.1, min_samples_leaf=5, n_estimators=300; total time=   1.2s\n",
      "[CV] END bootstrap=False, max_depth=100, min_impurity_decrease=0.1, min_samples_leaf=10, n_estimators=50; total time=   0.2s\n",
      "[CV] END bootstrap=False, max_depth=100, min_impurity_decrease=0.1, min_samples_leaf=10, n_estimators=50; total time=   0.1s\n",
      "[CV] END bootstrap=False, max_depth=100, min_impurity_decrease=0.1, min_samples_leaf=10, n_estimators=50; total time=   0.1s\n",
      "[CV] END bootstrap=False, max_depth=100, min_impurity_decrease=0.1, min_samples_leaf=10, n_estimators=100; total time=   0.4s\n",
      "[CV] END bootstrap=False, max_depth=100, min_impurity_decrease=0.1, min_samples_leaf=10, n_estimators=100; total time=   0.4s\n",
      "[CV] END bootstrap=False, max_depth=100, min_impurity_decrease=0.1, min_samples_leaf=10, n_estimators=100; total time=   0.4s\n",
      "[CV] END bootstrap=False, max_depth=100, min_impurity_decrease=0.1, min_samples_leaf=10, n_estimators=200; total time=   0.9s\n",
      "[CV] END bootstrap=False, max_depth=100, min_impurity_decrease=0.1, min_samples_leaf=10, n_estimators=200; total time=   0.9s\n",
      "[CV] END bootstrap=False, max_depth=100, min_impurity_decrease=0.1, min_samples_leaf=10, n_estimators=200; total time=   0.9s\n",
      "[CV] END bootstrap=False, max_depth=100, min_impurity_decrease=0.1, min_samples_leaf=10, n_estimators=300; total time=   1.4s\n",
      "[CV] END bootstrap=False, max_depth=100, min_impurity_decrease=0.1, min_samples_leaf=10, n_estimators=300; total time=   1.3s\n",
      "[CV] END bootstrap=False, max_depth=100, min_impurity_decrease=0.1, min_samples_leaf=10, n_estimators=300; total time=   1.4s\n"
     ]
    },
    {
     "output_type": "execute_result",
     "data": {
      "text/plain": [
       "GridSearchCV(cv=3, estimator=RandomForestClassifier(),\n",
       "             param_grid={'bootstrap': [True, False], 'max_depth': [10, 50, 100],\n",
       "                         'min_impurity_decrease': [0.0, 0.05, 0.1],\n",
       "                         'min_samples_leaf': [1, 5, 10],\n",
       "                         'n_estimators': [50, 100, 200, 300]},\n",
       "             verbose=2)"
      ]
     },
     "metadata": {},
     "execution_count": 6
    }
   ],
   "source": [
    "grid = GridSearchCV(model, param_grid, refit=True, cv =3, verbose=2)\n",
    "grid.fit(X_train, y_train)"
   ]
  },
  {
   "cell_type": "code",
   "execution_count": 7,
   "metadata": {},
   "outputs": [
    {
     "output_type": "stream",
     "name": "stdout",
     "text": [
      "{'bootstrap': False, 'max_depth': 100, 'min_impurity_decrease': 0.0, 'min_samples_leaf': 5, 'n_estimators': 100}\n"
     ]
    }
   ],
   "source": [
    "print(grid.best_params_)"
   ]
  },
  {
   "cell_type": "code",
   "execution_count": 8,
   "metadata": {},
   "outputs": [
    {
     "output_type": "execute_result",
     "data": {
      "text/plain": [
       "RandomForestClassifier(max_depth=20)"
      ]
     },
     "metadata": {},
     "execution_count": 8
    }
   ],
   "source": [
    "# model_best = RandomForestClassifier(bootstrap = False, max_depth = 50, min_impurity_decrease= 0.0, min_samples_leaf=100, n_estimators=200)\n",
    "model_best = RandomForestClassifier(bootstrap = True, max_depth = 20, min_impurity_decrease= 0.0, min_samples_leaf=1, n_estimators=100)\n",
    "model_best.fit(X_train, y_train)"
   ]
  },
  {
   "cell_type": "code",
   "execution_count": 9,
   "metadata": {},
   "outputs": [
    {
     "output_type": "stream",
     "name": "stdout",
     "text": [
      "Accuracy: 84.52%\n",
      "Default Accuracy: 83.31%\n"
     ]
    }
   ],
   "source": [
    "# make predictions for test data\n",
    "y_pred = model_best.predict(X_test)\n",
    "predictions = [round(value) for value in y_pred]\n",
    "# evaluate predictions\n",
    "accuracy = accuracy_score(y_test, predictions)\n",
    "print(\"Accuracy: %.2f%%\" % (accuracy * 100.0))\n",
    "\n",
    "model_default = RandomForestClassifier()\n",
    "model_default.fit(X_train, y_train)\n",
    "# make predictions for test data\n",
    "y_pred = model_default.predict(X_test)\n",
    "predictions = [round(value) for value in y_pred]\n",
    "# evaluate predictions\n",
    "accuracy = accuracy_score(y_test, predictions)\n",
    "\n",
    "\n",
    "print(\"Default Accuracy: %.2f%%\" % (accuracy * 100.0))"
   ]
  },
  {
   "cell_type": "code",
   "execution_count": 10,
   "metadata": {},
   "outputs": [
    {
     "output_type": "stream",
     "name": "stdout",
     "text": [
      "Cross_val_score: 84.32%\nTraining accuracy: 91.68%\n"
     ]
    }
   ],
   "source": [
    "crossVal = cross_val_score(model_best,X_train,y_train,cv=5).mean()\n",
    "\n",
    "y_pred_train = model_best.predict(X_train)\n",
    "predictions_train = [round(value) for value in y_pred_train]\n",
    "train_acc = accuracy_score(y_train, predictions_train)\n",
    "\n",
    "print(\"Cross_val_score: %.2f%%\" % (crossVal * 100.0))\n",
    "print(\"Training accuracy: %.2f%%\" % (train_acc * 100.0))"
   ]
  },
  {
   "cell_type": "code",
   "execution_count": null,
   "metadata": {},
   "outputs": [],
   "source": []
  }
 ]
}