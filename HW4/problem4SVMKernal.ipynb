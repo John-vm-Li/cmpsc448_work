{
 "metadata": {
  "language_info": {
   "codemirror_mode": {
    "name": "ipython",
    "version": 3
   },
   "file_extension": ".py",
   "mimetype": "text/x-python",
   "name": "python",
   "nbconvert_exporter": "python",
   "pygments_lexer": "ipython3",
   "version": "3.9.1-final"
  },
  "orig_nbformat": 2,
  "kernelspec": {
   "name": "python391jvsc74a57bd02b9f1ee44537793090571f2e49c83911a687c4a6112f2d17296ae2f062e01aa7",
   "display_name": "Python 3.9.1 64-bit"
  },
  "metadata": {
   "interpreter": {
    "hash": "2b9f1ee44537793090571f2e49c83911a687c4a6112f2d17296ae2f062e01aa7"
   }
  }
 },
 "nbformat": 4,
 "nbformat_minor": 2,
 "cells": [
  {
   "cell_type": "code",
   "execution_count": 1,
   "metadata": {},
   "outputs": [],
   "source": [
    "from sklearn.model_selection import train_test_split \n",
    "from sklearn.metrics import accuracy_score \n",
    "from sklearn.datasets import load_svmlight_file\n",
    "from sklearn.model_selection import GridSearchCV\n",
    "from sklearn.model_selection import KFold\n",
    "from sklearn.model_selection import cross_val_score\n",
    "\n",
    "\n",
    "from sklearn.svm import SVC\n"
   ]
  },
  {
   "cell_type": "code",
   "execution_count": 2,
   "metadata": {},
   "outputs": [],
   "source": [
    "# load data in LibSVM sparse data format\n",
    "training_data = load_svmlight_file(r\"C:\\Users\\ameya\\Documents\\projects\\cmpsc448_work\\HW4\\a9a.txt\")\n",
    "X_train = training_data[0]\n",
    "y_train = training_data[1]"
   ]
  },
  {
   "cell_type": "code",
   "execution_count": 3,
   "metadata": {},
   "outputs": [],
   "source": [
    "testing_data = load_svmlight_file(r\"C:\\Users\\ameya\\Documents\\projects\\cmpsc448_work\\HW4\\a9a.t\")\n",
    "X_test = testing_data[0]\n",
    "y_test = testing_data[1]"
   ]
  },
  {
   "cell_type": "code",
   "execution_count": 4,
   "metadata": {},
   "outputs": [
    {
     "output_type": "execute_result",
     "data": {
      "text/plain": [
       "SVC()"
      ]
     },
     "metadata": {},
     "execution_count": 4
    }
   ],
   "source": [
    "model = SVC()\n",
    "model.fit(X_train, y_train)"
   ]
  },
  {
   "cell_type": "code",
   "execution_count": 5,
   "metadata": {},
   "outputs": [],
   "source": [
    "kernel = ['rbf', 'poly', 'sigmoid']\n",
    "C = [1, 5, 10]\n",
    "gamma = ['scale', 'auto']\n",
    "\n",
    "param_grid = dict(C = C, gamma = gamma, kernel = kernel)"
   ]
  },
  {
   "cell_type": "code",
   "execution_count": 6,
   "metadata": {},
   "outputs": [
    {
     "output_type": "stream",
     "name": "stdout",
     "text": [
      "Fitting 3 folds for each of 18 candidates, totalling 54 fits\n",
      "[CV] END .......................C=1, gamma=scale, kernel=rbf; total time= 1.2min\n",
      "[CV] END .......................C=1, gamma=scale, kernel=rbf; total time= 1.5min\n",
      "[CV] END .......................C=1, gamma=scale, kernel=rbf; total time= 1.4min\n",
      "[CV] END ......................C=1, gamma=scale, kernel=poly; total time= 1.4min\n",
      "[CV] END ......................C=1, gamma=scale, kernel=poly; total time= 1.3min\n",
      "[CV] END ......................C=1, gamma=scale, kernel=poly; total time= 1.3min\n",
      "[CV] END ...................C=1, gamma=scale, kernel=sigmoid; total time=  58.5s\n",
      "[CV] END ...................C=1, gamma=scale, kernel=sigmoid; total time= 1.0min\n",
      "[CV] END ...................C=1, gamma=scale, kernel=sigmoid; total time= 1.1min\n",
      "[CV] END ........................C=1, gamma=auto, kernel=rbf; total time= 1.4min\n",
      "[CV] END ........................C=1, gamma=auto, kernel=rbf; total time= 1.4min\n",
      "[CV] END ........................C=1, gamma=auto, kernel=rbf; total time= 1.3min\n",
      "[CV] END .......................C=1, gamma=auto, kernel=poly; total time= 1.7min\n",
      "[CV] END .......................C=1, gamma=auto, kernel=poly; total time= 1.9min\n",
      "[CV] END .......................C=1, gamma=auto, kernel=poly; total time= 1.8min\n",
      "[CV] END ....................C=1, gamma=auto, kernel=sigmoid; total time= 1.5min\n",
      "[CV] END ....................C=1, gamma=auto, kernel=sigmoid; total time= 1.6min\n",
      "[CV] END ....................C=1, gamma=auto, kernel=sigmoid; total time= 1.6min\n",
      "[CV] END .......................C=5, gamma=scale, kernel=rbf; total time= 2.0min\n",
      "[CV] END .......................C=5, gamma=scale, kernel=rbf; total time= 2.1min\n",
      "[CV] END .......................C=5, gamma=scale, kernel=rbf; total time= 2.1min\n",
      "[CV] END ......................C=5, gamma=scale, kernel=poly; total time= 2.9min\n",
      "[CV] END ......................C=5, gamma=scale, kernel=poly; total time= 3.1min\n",
      "[CV] END ......................C=5, gamma=scale, kernel=poly; total time= 3.0min\n",
      "[CV] END ...................C=5, gamma=scale, kernel=sigmoid; total time= 1.3min\n",
      "[CV] END ...................C=5, gamma=scale, kernel=sigmoid; total time= 1.0min\n",
      "[CV] END ...................C=5, gamma=scale, kernel=sigmoid; total time= 1.0min\n",
      "[CV] END ........................C=5, gamma=auto, kernel=rbf; total time= 1.4min\n",
      "[CV] END ........................C=5, gamma=auto, kernel=rbf; total time= 1.5min\n",
      "[CV] END ........................C=5, gamma=auto, kernel=rbf; total time= 1.7min\n",
      "[CV] END .......................C=5, gamma=auto, kernel=poly; total time= 1.7min\n",
      "[CV] END .......................C=5, gamma=auto, kernel=poly; total time= 1.6min\n",
      "[CV] END .......................C=5, gamma=auto, kernel=poly; total time= 2.1min\n",
      "[CV] END ....................C=5, gamma=auto, kernel=sigmoid; total time= 1.5min\n",
      "[CV] END ....................C=5, gamma=auto, kernel=sigmoid; total time= 1.4min\n",
      "[CV] END ....................C=5, gamma=auto, kernel=sigmoid; total time= 1.4min\n",
      "[CV] END ......................C=10, gamma=scale, kernel=rbf; total time= 2.8min\n",
      "[CV] END ......................C=10, gamma=scale, kernel=rbf; total time= 2.9min\n",
      "[CV] END ......................C=10, gamma=scale, kernel=rbf; total time= 2.9min\n",
      "[CV] END .....................C=10, gamma=scale, kernel=poly; total time= 4.2min\n",
      "[CV] END .....................C=10, gamma=scale, kernel=poly; total time= 3.9min\n",
      "[CV] END .....................C=10, gamma=scale, kernel=poly; total time= 3.0min\n",
      "[CV] END ..................C=10, gamma=scale, kernel=sigmoid; total time=  41.9s\n",
      "[CV] END ..................C=10, gamma=scale, kernel=sigmoid; total time=  41.4s\n",
      "[CV] END ..................C=10, gamma=scale, kernel=sigmoid; total time=  38.9s\n",
      "[CV] END .......................C=10, gamma=auto, kernel=rbf; total time= 1.0min\n",
      "[CV] END .......................C=10, gamma=auto, kernel=rbf; total time= 1.0min\n",
      "[CV] END .......................C=10, gamma=auto, kernel=rbf; total time=  56.9s\n",
      "[CV] END ......................C=10, gamma=auto, kernel=poly; total time= 1.2min\n",
      "[CV] END ......................C=10, gamma=auto, kernel=poly; total time= 1.1min\n",
      "[CV] END ......................C=10, gamma=auto, kernel=poly; total time= 1.1min\n",
      "[CV] END ...................C=10, gamma=auto, kernel=sigmoid; total time=  58.9s\n",
      "[CV] END ...................C=10, gamma=auto, kernel=sigmoid; total time= 1.1min\n",
      "[CV] END ...................C=10, gamma=auto, kernel=sigmoid; total time=  58.7s\n"
     ]
    },
    {
     "output_type": "execute_result",
     "data": {
      "text/plain": [
       "GridSearchCV(cv=3, estimator=SVC(),\n",
       "             param_grid={'C': [1, 5, 10], 'gamma': ['scale', 'auto'],\n",
       "                         'kernel': ['rbf', 'poly', 'sigmoid']},\n",
       "             verbose=2)"
      ]
     },
     "metadata": {},
     "execution_count": 6
    }
   ],
   "source": [
    "grid = GridSearchCV(model, param_grid, refit=True, cv=3,verbose=2)\n",
    "grid.fit(X_train, y_train)"
   ]
  },
  {
   "cell_type": "code",
   "execution_count": 7,
   "metadata": {},
   "outputs": [
    {
     "output_type": "stream",
     "name": "stdout",
     "text": [
      "{'C': 1, 'gamma': 'scale', 'kernel': 'poly'}\n"
     ]
    }
   ],
   "source": [
    "print(grid.best_params_)"
   ]
  },
  {
   "cell_type": "code",
   "execution_count": 9,
   "metadata": {},
   "outputs": [
    {
     "output_type": "execute_result",
     "data": {
      "text/plain": [
       "SVC(C=1, kernel='poly')"
      ]
     },
     "metadata": {},
     "execution_count": 9
    }
   ],
   "source": [
    "model_best = SVC(C=1, gamma='scale', kernel='poly')\n",
    "model_best.fit(X_train, y_train)"
   ]
  },
  {
   "cell_type": "code",
   "execution_count": 11,
   "metadata": {},
   "outputs": [
    {
     "output_type": "stream",
     "name": "stdout",
     "text": [
      "Accuracy: 85.03%\n",
      "Default Accuracy: 85.06%\n"
     ]
    }
   ],
   "source": [
    "# make predictions for test data\n",
    "y_pred = model_best.predict(X_test)\n",
    "predictions = [round(value) for value in y_pred]\n",
    "# evaluate predictions\n",
    "accuracy = accuracy_score(y_test, predictions)\n",
    "print(\"Accuracy: %.2f%%\" % (accuracy * 100.0))\n",
    "\n",
    "model_default = SVC()\n",
    "model_default.fit(X_train, y_train)\n",
    "# make predictions for test data\n",
    "y_pred = model_default.predict(X_test)\n",
    "predictions = [round(value) for value in y_pred]\n",
    "# evaluate predictions\n",
    "accuracy = accuracy_score(y_test, predictions)\n",
    "\n",
    "\n",
    "print(\"Default Accuracy: %.2f%%\" % (accuracy * 100.0))"
   ]
  },
  {
   "cell_type": "code",
   "execution_count": null,
   "metadata": {},
   "outputs": [],
   "source": []
  }
 ]
}