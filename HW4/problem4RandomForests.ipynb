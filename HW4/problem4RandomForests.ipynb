{
 "metadata": {
  "language_info": {
   "codemirror_mode": {
    "name": "ipython",
    "version": 3
   },
   "file_extension": ".py",
   "mimetype": "text/x-python",
   "name": "python",
   "nbconvert_exporter": "python",
   "pygments_lexer": "ipython3",
   "version": "3.9.1-final"
  },
  "orig_nbformat": 2,
  "kernelspec": {
   "name": "python391jvsc74a57bd02b9f1ee44537793090571f2e49c83911a687c4a6112f2d17296ae2f062e01aa7",
   "display_name": "Python 3.9.1 64-bit"
  },
  "metadata": {
   "interpreter": {
    "hash": "2b9f1ee44537793090571f2e49c83911a687c4a6112f2d17296ae2f062e01aa7"
   }
  }
 },
 "nbformat": 4,
 "nbformat_minor": 2,
 "cells": [
  {
   "cell_type": "code",
   "execution_count": 1,
   "metadata": {},
   "outputs": [],
   "source": [
    "from sklearn.model_selection import train_test_split \n",
    "from sklearn.metrics import accuracy_score \n",
    "from sklearn.datasets import load_svmlight_file\n",
    "from sklearn.model_selection import GridSearchCV\n",
    "from sklearn.model_selection import KFold\n",
    "from sklearn.model_selection import cross_val_score\n",
    "\n",
    "\n",
    "from sklearn.ensemble import RandomForestClassifier"
   ]
  },
  {
   "cell_type": "code",
   "execution_count": 2,
   "metadata": {},
   "outputs": [],
   "source": [
    "# load data in LibSVM sparse data format\n",
    "training_data = load_svmlight_file(r\"C:\\Users\\ameya\\Documents\\projects\\cmpsc448_work\\HW4\\a9a.txt\")\n",
    "X_train = training_data[0]\n",
    "y_train = training_data[1]"
   ]
  },
  {
   "cell_type": "code",
   "execution_count": 3,
   "metadata": {},
   "outputs": [],
   "source": [
    "testing_data = load_svmlight_file(r\"C:\\Users\\ameya\\Documents\\projects\\cmpsc448_work\\HW4\\a9a.t\")\n",
    "X_test = testing_data[0]\n",
    "y_test = testing_data[1]"
   ]
  },
  {
   "cell_type": "code",
   "execution_count": 4,
   "metadata": {},
   "outputs": [
    {
     "output_type": "execute_result",
     "data": {
      "text/plain": [
       "RandomForestClassifier()"
      ]
     },
     "metadata": {},
     "execution_count": 4
    }
   ],
   "source": [
    "model = RandomForestClassifier()\n",
    "model.fit(X_train, y_train)"
   ]
  },
  {
   "cell_type": "code",
   "execution_count": 5,
   "metadata": {},
   "outputs": [],
   "source": [
    "n_estimators = [200, 300 ,400]\n",
    "bootstrap = [True, False]\n",
    "max_depth = [None, 10 ,50]\n",
    "min_impurity_decrease = [0.0, 0.05, 0.1]\n",
    "min_samples_leaf = [100, 200, 400]\n",
    "\n",
    "param_grid = dict(n_estimators = n_estimators, bootstrap = bootstrap, max_depth = max_depth, min_impurity_decrease = min_impurity_decrease, min_samples_leaf = min_samples_leaf)"
   ]
  },
  {
   "cell_type": "code",
   "execution_count": 6,
   "metadata": {
    "tags": [
     "outputPrepend"
    ]
   },
   "outputs": [
    {
     "output_type": "stream",
     "name": "stdout",
     "text": [
      " n_estimators=300; total time=  14.7s\n",
      "[CV] END bootstrap=False, max_depth=10, min_impurity_decrease=0.0, min_samples_leaf=100, n_estimators=300; total time=  14.9s\n",
      "[CV] END bootstrap=False, max_depth=10, min_impurity_decrease=0.0, min_samples_leaf=100, n_estimators=300; total time=  14.7s\n",
      "[CV] END bootstrap=False, max_depth=10, min_impurity_decrease=0.0, min_samples_leaf=100, n_estimators=400; total time=  18.8s\n",
      "[CV] END bootstrap=False, max_depth=10, min_impurity_decrease=0.0, min_samples_leaf=100, n_estimators=400; total time=  18.6s\n",
      "[CV] END bootstrap=False, max_depth=10, min_impurity_decrease=0.0, min_samples_leaf=100, n_estimators=400; total time=  18.8s\n",
      "[CV] END bootstrap=False, max_depth=10, min_impurity_decrease=0.0, min_samples_leaf=200, n_estimators=200; total time=   7.1s\n",
      "[CV] END bootstrap=False, max_depth=10, min_impurity_decrease=0.0, min_samples_leaf=200, n_estimators=200; total time=   7.2s\n",
      "[CV] END bootstrap=False, max_depth=10, min_impurity_decrease=0.0, min_samples_leaf=200, n_estimators=200; total time=   7.2s\n",
      "[CV] END bootstrap=False, max_depth=10, min_impurity_decrease=0.0, min_samples_leaf=200, n_estimators=300; total time=  10.9s\n",
      "[CV] END bootstrap=False, max_depth=10, min_impurity_decrease=0.0, min_samples_leaf=200, n_estimators=300; total time=  10.6s\n",
      "[CV] END bootstrap=False, max_depth=10, min_impurity_decrease=0.0, min_samples_leaf=200, n_estimators=300; total time=  10.6s\n",
      "[CV] END bootstrap=False, max_depth=10, min_impurity_decrease=0.0, min_samples_leaf=200, n_estimators=400; total time=  15.1s\n",
      "[CV] END bootstrap=False, max_depth=10, min_impurity_decrease=0.0, min_samples_leaf=200, n_estimators=400; total time=  15.3s\n",
      "[CV] END bootstrap=False, max_depth=10, min_impurity_decrease=0.0, min_samples_leaf=200, n_estimators=400; total time=  14.8s\n",
      "[CV] END bootstrap=False, max_depth=10, min_impurity_decrease=0.0, min_samples_leaf=400, n_estimators=200; total time=   5.3s\n",
      "[CV] END bootstrap=False, max_depth=10, min_impurity_decrease=0.0, min_samples_leaf=400, n_estimators=200; total time=   5.3s\n",
      "[CV] END bootstrap=False, max_depth=10, min_impurity_decrease=0.0, min_samples_leaf=400, n_estimators=200; total time=   5.2s\n",
      "[CV] END bootstrap=False, max_depth=10, min_impurity_decrease=0.0, min_samples_leaf=400, n_estimators=300; total time=   8.2s\n",
      "[CV] END bootstrap=False, max_depth=10, min_impurity_decrease=0.0, min_samples_leaf=400, n_estimators=300; total time=   7.9s\n",
      "[CV] END bootstrap=False, max_depth=10, min_impurity_decrease=0.0, min_samples_leaf=400, n_estimators=300; total time=   8.0s\n",
      "[CV] END bootstrap=False, max_depth=10, min_impurity_decrease=0.0, min_samples_leaf=400, n_estimators=400; total time=  11.2s\n",
      "[CV] END bootstrap=False, max_depth=10, min_impurity_decrease=0.0, min_samples_leaf=400, n_estimators=400; total time=  11.5s\n",
      "[CV] END bootstrap=False, max_depth=10, min_impurity_decrease=0.0, min_samples_leaf=400, n_estimators=400; total time=  11.5s\n",
      "[CV] END bootstrap=False, max_depth=10, min_impurity_decrease=0.05, min_samples_leaf=100, n_estimators=200; total time=   2.2s\n",
      "[CV] END bootstrap=False, max_depth=10, min_impurity_decrease=0.05, min_samples_leaf=100, n_estimators=200; total time=   2.2s\n",
      "[CV] END bootstrap=False, max_depth=10, min_impurity_decrease=0.05, min_samples_leaf=100, n_estimators=200; total time=   2.2s\n",
      "[CV] END bootstrap=False, max_depth=10, min_impurity_decrease=0.05, min_samples_leaf=100, n_estimators=300; total time=   3.3s\n",
      "[CV] END bootstrap=False, max_depth=10, min_impurity_decrease=0.05, min_samples_leaf=100, n_estimators=300; total time=   3.0s\n",
      "[CV] END bootstrap=False, max_depth=10, min_impurity_decrease=0.05, min_samples_leaf=100, n_estimators=300; total time=   3.0s\n",
      "[CV] END bootstrap=False, max_depth=10, min_impurity_decrease=0.05, min_samples_leaf=100, n_estimators=400; total time=   4.0s\n",
      "[CV] END bootstrap=False, max_depth=10, min_impurity_decrease=0.05, min_samples_leaf=100, n_estimators=400; total time=   4.1s\n",
      "[CV] END bootstrap=False, max_depth=10, min_impurity_decrease=0.05, min_samples_leaf=100, n_estimators=400; total time=   4.2s\n",
      "[CV] END bootstrap=False, max_depth=10, min_impurity_decrease=0.05, min_samples_leaf=200, n_estimators=200; total time=   2.1s\n",
      "[CV] END bootstrap=False, max_depth=10, min_impurity_decrease=0.05, min_samples_leaf=200, n_estimators=200; total time=   2.2s\n",
      "[CV] END bootstrap=False, max_depth=10, min_impurity_decrease=0.05, min_samples_leaf=200, n_estimators=200; total time=   1.9s\n",
      "[CV] END bootstrap=False, max_depth=10, min_impurity_decrease=0.05, min_samples_leaf=200, n_estimators=300; total time=   3.2s\n",
      "[CV] END bootstrap=False, max_depth=10, min_impurity_decrease=0.05, min_samples_leaf=200, n_estimators=300; total time=   3.1s\n",
      "[CV] END bootstrap=False, max_depth=10, min_impurity_decrease=0.05, min_samples_leaf=200, n_estimators=300; total time=   3.1s\n",
      "[CV] END bootstrap=False, max_depth=10, min_impurity_decrease=0.05, min_samples_leaf=200, n_estimators=400; total time=   4.2s\n",
      "[CV] END bootstrap=False, max_depth=10, min_impurity_decrease=0.05, min_samples_leaf=200, n_estimators=400; total time=   4.5s\n",
      "[CV] END bootstrap=False, max_depth=10, min_impurity_decrease=0.05, min_samples_leaf=200, n_estimators=400; total time=   4.0s\n",
      "[CV] END bootstrap=False, max_depth=10, min_impurity_decrease=0.05, min_samples_leaf=400, n_estimators=200; total time=   2.1s\n",
      "[CV] END bootstrap=False, max_depth=10, min_impurity_decrease=0.05, min_samples_leaf=400, n_estimators=200; total time=   1.9s\n",
      "[CV] END bootstrap=False, max_depth=10, min_impurity_decrease=0.05, min_samples_leaf=400, n_estimators=200; total time=   2.0s\n",
      "[CV] END bootstrap=False, max_depth=10, min_impurity_decrease=0.05, min_samples_leaf=400, n_estimators=300; total time=   3.1s\n",
      "[CV] END bootstrap=False, max_depth=10, min_impurity_decrease=0.05, min_samples_leaf=400, n_estimators=300; total time=   3.1s\n",
      "[CV] END bootstrap=False, max_depth=10, min_impurity_decrease=0.05, min_samples_leaf=400, n_estimators=300; total time=   2.8s\n",
      "[CV] END bootstrap=False, max_depth=10, min_impurity_decrease=0.05, min_samples_leaf=400, n_estimators=400; total time=   4.1s\n",
      "[CV] END bootstrap=False, max_depth=10, min_impurity_decrease=0.05, min_samples_leaf=400, n_estimators=400; total time=   4.0s\n",
      "[CV] END bootstrap=False, max_depth=10, min_impurity_decrease=0.05, min_samples_leaf=400, n_estimators=400; total time=   4.1s\n",
      "[CV] END bootstrap=False, max_depth=10, min_impurity_decrease=0.1, min_samples_leaf=100, n_estimators=200; total time=   1.8s\n",
      "[CV] END bootstrap=False, max_depth=10, min_impurity_decrease=0.1, min_samples_leaf=100, n_estimators=200; total time=   2.0s\n",
      "[CV] END bootstrap=False, max_depth=10, min_impurity_decrease=0.1, min_samples_leaf=100, n_estimators=200; total time=   1.9s\n",
      "[CV] END bootstrap=False, max_depth=10, min_impurity_decrease=0.1, min_samples_leaf=100, n_estimators=300; total time=   2.8s\n",
      "[CV] END bootstrap=False, max_depth=10, min_impurity_decrease=0.1, min_samples_leaf=100, n_estimators=300; total time=   2.8s\n",
      "[CV] END bootstrap=False, max_depth=10, min_impurity_decrease=0.1, min_samples_leaf=100, n_estimators=300; total time=   2.8s\n",
      "[CV] END bootstrap=False, max_depth=10, min_impurity_decrease=0.1, min_samples_leaf=100, n_estimators=400; total time=   4.2s\n",
      "[CV] END bootstrap=False, max_depth=10, min_impurity_decrease=0.1, min_samples_leaf=100, n_estimators=400; total time=   3.7s\n",
      "[CV] END bootstrap=False, max_depth=10, min_impurity_decrease=0.1, min_samples_leaf=100, n_estimators=400; total time=   4.1s\n",
      "[CV] END bootstrap=False, max_depth=10, min_impurity_decrease=0.1, min_samples_leaf=200, n_estimators=200; total time=   2.2s\n",
      "[CV] END bootstrap=False, max_depth=10, min_impurity_decrease=0.1, min_samples_leaf=200, n_estimators=200; total time=   2.2s\n",
      "[CV] END bootstrap=False, max_depth=10, min_impurity_decrease=0.1, min_samples_leaf=200, n_estimators=200; total time=   2.1s\n",
      "[CV] END bootstrap=False, max_depth=10, min_impurity_decrease=0.1, min_samples_leaf=200, n_estimators=300; total time=   3.2s\n",
      "[CV] END bootstrap=False, max_depth=10, min_impurity_decrease=0.1, min_samples_leaf=200, n_estimators=300; total time=   2.8s\n",
      "[CV] END bootstrap=False, max_depth=10, min_impurity_decrease=0.1, min_samples_leaf=200, n_estimators=300; total time=   3.1s\n",
      "[CV] END bootstrap=False, max_depth=10, min_impurity_decrease=0.1, min_samples_leaf=200, n_estimators=400; total time=   4.1s\n",
      "[CV] END bootstrap=False, max_depth=10, min_impurity_decrease=0.1, min_samples_leaf=200, n_estimators=400; total time=   4.3s\n",
      "[CV] END bootstrap=False, max_depth=10, min_impurity_decrease=0.1, min_samples_leaf=200, n_estimators=400; total time=   4.3s\n",
      "[CV] END bootstrap=False, max_depth=10, min_impurity_decrease=0.1, min_samples_leaf=400, n_estimators=200; total time=   1.9s\n",
      "[CV] END bootstrap=False, max_depth=10, min_impurity_decrease=0.1, min_samples_leaf=400, n_estimators=200; total time=   2.0s\n",
      "[CV] END bootstrap=False, max_depth=10, min_impurity_decrease=0.1, min_samples_leaf=400, n_estimators=200; total time=   1.9s\n",
      "[CV] END bootstrap=False, max_depth=10, min_impurity_decrease=0.1, min_samples_leaf=400, n_estimators=300; total time=   2.9s\n",
      "[CV] END bootstrap=False, max_depth=10, min_impurity_decrease=0.1, min_samples_leaf=400, n_estimators=300; total time=   3.0s\n",
      "[CV] END bootstrap=False, max_depth=10, min_impurity_decrease=0.1, min_samples_leaf=400, n_estimators=300; total time=   3.1s\n",
      "[CV] END bootstrap=False, max_depth=10, min_impurity_decrease=0.1, min_samples_leaf=400, n_estimators=400; total time=   3.8s\n",
      "[CV] END bootstrap=False, max_depth=10, min_impurity_decrease=0.1, min_samples_leaf=400, n_estimators=400; total time=   4.1s\n",
      "[CV] END bootstrap=False, max_depth=10, min_impurity_decrease=0.1, min_samples_leaf=400, n_estimators=400; total time=   4.0s\n",
      "[CV] END bootstrap=False, max_depth=50, min_impurity_decrease=0.0, min_samples_leaf=100, n_estimators=200; total time=  12.8s\n",
      "[CV] END bootstrap=False, max_depth=50, min_impurity_decrease=0.0, min_samples_leaf=100, n_estimators=200; total time=  13.1s\n",
      "[CV] END bootstrap=False, max_depth=50, min_impurity_decrease=0.0, min_samples_leaf=100, n_estimators=200; total time=  12.5s\n",
      "[CV] END bootstrap=False, max_depth=50, min_impurity_decrease=0.0, min_samples_leaf=100, n_estimators=300; total time=  18.6s\n",
      "[CV] END bootstrap=False, max_depth=50, min_impurity_decrease=0.0, min_samples_leaf=100, n_estimators=300; total time=  19.8s\n",
      "[CV] END bootstrap=False, max_depth=50, min_impurity_decrease=0.0, min_samples_leaf=100, n_estimators=300; total time=  19.1s\n",
      "[CV] END bootstrap=False, max_depth=50, min_impurity_decrease=0.0, min_samples_leaf=100, n_estimators=400; total time=  26.8s\n",
      "[CV] END bootstrap=False, max_depth=50, min_impurity_decrease=0.0, min_samples_leaf=100, n_estimators=400; total time=  25.3s\n",
      "[CV] END bootstrap=False, max_depth=50, min_impurity_decrease=0.0, min_samples_leaf=100, n_estimators=400; total time=  25.6s\n",
      "[CV] END bootstrap=False, max_depth=50, min_impurity_decrease=0.0, min_samples_leaf=200, n_estimators=200; total time=   8.6s\n",
      "[CV] END bootstrap=False, max_depth=50, min_impurity_decrease=0.0, min_samples_leaf=200, n_estimators=200; total time=   8.5s\n",
      "[CV] END bootstrap=False, max_depth=50, min_impurity_decrease=0.0, min_samples_leaf=200, n_estimators=200; total time=   8.6s\n",
      "[CV] END bootstrap=False, max_depth=50, min_impurity_decrease=0.0, min_samples_leaf=200, n_estimators=300; total time=  13.2s\n",
      "[CV] END bootstrap=False, max_depth=50, min_impurity_decrease=0.0, min_samples_leaf=200, n_estimators=300; total time=  12.9s\n",
      "[CV] END bootstrap=False, max_depth=50, min_impurity_decrease=0.0, min_samples_leaf=200, n_estimators=300; total time=  12.9s\n",
      "[CV] END bootstrap=False, max_depth=50, min_impurity_decrease=0.0, min_samples_leaf=200, n_estimators=400; total time=  17.0s\n",
      "[CV] END bootstrap=False, max_depth=50, min_impurity_decrease=0.0, min_samples_leaf=200, n_estimators=400; total time=  17.2s\n",
      "[CV] END bootstrap=False, max_depth=50, min_impurity_decrease=0.0, min_samples_leaf=200, n_estimators=400; total time=  17.1s\n",
      "[CV] END bootstrap=False, max_depth=50, min_impurity_decrease=0.0, min_samples_leaf=400, n_estimators=200; total time=   5.9s\n",
      "[CV] END bootstrap=False, max_depth=50, min_impurity_decrease=0.0, min_samples_leaf=400, n_estimators=200; total time=   6.0s\n",
      "[CV] END bootstrap=False, max_depth=50, min_impurity_decrease=0.0, min_samples_leaf=400, n_estimators=200; total time=   6.0s\n",
      "[CV] END bootstrap=False, max_depth=50, min_impurity_decrease=0.0, min_samples_leaf=400, n_estimators=300; total time=   9.2s\n",
      "[CV] END bootstrap=False, max_depth=50, min_impurity_decrease=0.0, min_samples_leaf=400, n_estimators=300; total time=   8.9s\n",
      "[CV] END bootstrap=False, max_depth=50, min_impurity_decrease=0.0, min_samples_leaf=400, n_estimators=300; total time=   9.2s\n",
      "[CV] END bootstrap=False, max_depth=50, min_impurity_decrease=0.0, min_samples_leaf=400, n_estimators=400; total time=  12.1s\n",
      "[CV] END bootstrap=False, max_depth=50, min_impurity_decrease=0.0, min_samples_leaf=400, n_estimators=400; total time=  12.0s\n",
      "[CV] END bootstrap=False, max_depth=50, min_impurity_decrease=0.0, min_samples_leaf=400, n_estimators=400; total time=  11.7s\n",
      "[CV] END bootstrap=False, max_depth=50, min_impurity_decrease=0.05, min_samples_leaf=100, n_estimators=200; total time=   2.5s\n",
      "[CV] END bootstrap=False, max_depth=50, min_impurity_decrease=0.05, min_samples_leaf=100, n_estimators=200; total time=   2.3s\n",
      "[CV] END bootstrap=False, max_depth=50, min_impurity_decrease=0.05, min_samples_leaf=100, n_estimators=200; total time=   2.3s\n",
      "[CV] END bootstrap=False, max_depth=50, min_impurity_decrease=0.05, min_samples_leaf=100, n_estimators=300; total time=   3.3s\n",
      "[CV] END bootstrap=False, max_depth=50, min_impurity_decrease=0.05, min_samples_leaf=100, n_estimators=300; total time=   3.2s\n",
      "[CV] END bootstrap=False, max_depth=50, min_impurity_decrease=0.05, min_samples_leaf=100, n_estimators=300; total time=   3.5s\n",
      "[CV] END bootstrap=False, max_depth=50, min_impurity_decrease=0.05, min_samples_leaf=100, n_estimators=400; total time=   4.5s\n",
      "[CV] END bootstrap=False, max_depth=50, min_impurity_decrease=0.05, min_samples_leaf=100, n_estimators=400; total time=   4.2s\n",
      "[CV] END bootstrap=False, max_depth=50, min_impurity_decrease=0.05, min_samples_leaf=100, n_estimators=400; total time=   5.1s\n",
      "[CV] END bootstrap=False, max_depth=50, min_impurity_decrease=0.05, min_samples_leaf=200, n_estimators=200; total time=   2.7s\n",
      "[CV] END bootstrap=False, max_depth=50, min_impurity_decrease=0.05, min_samples_leaf=200, n_estimators=200; total time=   2.4s\n",
      "[CV] END bootstrap=False, max_depth=50, min_impurity_decrease=0.05, min_samples_leaf=200, n_estimators=200; total time=   2.4s\n",
      "[CV] END bootstrap=False, max_depth=50, min_impurity_decrease=0.05, min_samples_leaf=200, n_estimators=300; total time=   3.6s\n",
      "[CV] END bootstrap=False, max_depth=50, min_impurity_decrease=0.05, min_samples_leaf=200, n_estimators=300; total time=   3.5s\n",
      "[CV] END bootstrap=False, max_depth=50, min_impurity_decrease=0.05, min_samples_leaf=200, n_estimators=300; total time=   3.4s\n",
      "[CV] END bootstrap=False, max_depth=50, min_impurity_decrease=0.05, min_samples_leaf=200, n_estimators=400; total time=   5.0s\n",
      "[CV] END bootstrap=False, max_depth=50, min_impurity_decrease=0.05, min_samples_leaf=200, n_estimators=400; total time=   5.0s\n",
      "[CV] END bootstrap=False, max_depth=50, min_impurity_decrease=0.05, min_samples_leaf=200, n_estimators=400; total time=   5.0s\n",
      "[CV] END bootstrap=False, max_depth=50, min_impurity_decrease=0.05, min_samples_leaf=400, n_estimators=200; total time=   2.5s\n",
      "[CV] END bootstrap=False, max_depth=50, min_impurity_decrease=0.05, min_samples_leaf=400, n_estimators=200; total time=   2.5s\n",
      "[CV] END bootstrap=False, max_depth=50, min_impurity_decrease=0.05, min_samples_leaf=400, n_estimators=200; total time=   2.3s\n",
      "[CV] END bootstrap=False, max_depth=50, min_impurity_decrease=0.05, min_samples_leaf=400, n_estimators=300; total time=   3.4s\n",
      "[CV] END bootstrap=False, max_depth=50, min_impurity_decrease=0.05, min_samples_leaf=400, n_estimators=300; total time=   3.7s\n",
      "[CV] END bootstrap=False, max_depth=50, min_impurity_decrease=0.05, min_samples_leaf=400, n_estimators=300; total time=   3.8s\n",
      "[CV] END bootstrap=False, max_depth=50, min_impurity_decrease=0.05, min_samples_leaf=400, n_estimators=400; total time=   5.1s\n",
      "[CV] END bootstrap=False, max_depth=50, min_impurity_decrease=0.05, min_samples_leaf=400, n_estimators=400; total time=   4.8s\n",
      "[CV] END bootstrap=False, max_depth=50, min_impurity_decrease=0.05, min_samples_leaf=400, n_estimators=400; total time=   4.3s\n",
      "[CV] END bootstrap=False, max_depth=50, min_impurity_decrease=0.1, min_samples_leaf=100, n_estimators=200; total time=   2.2s\n",
      "[CV] END bootstrap=False, max_depth=50, min_impurity_decrease=0.1, min_samples_leaf=100, n_estimators=200; total time=   2.1s\n",
      "[CV] END bootstrap=False, max_depth=50, min_impurity_decrease=0.1, min_samples_leaf=100, n_estimators=200; total time=   2.2s\n",
      "[CV] END bootstrap=False, max_depth=50, min_impurity_decrease=0.1, min_samples_leaf=100, n_estimators=300; total time=   3.6s\n",
      "[CV] END bootstrap=False, max_depth=50, min_impurity_decrease=0.1, min_samples_leaf=100, n_estimators=300; total time=   3.4s\n",
      "[CV] END bootstrap=False, max_depth=50, min_impurity_decrease=0.1, min_samples_leaf=100, n_estimators=300; total time=   3.6s\n",
      "[CV] END bootstrap=False, max_depth=50, min_impurity_decrease=0.1, min_samples_leaf=100, n_estimators=400; total time=   4.8s\n",
      "[CV] END bootstrap=False, max_depth=50, min_impurity_decrease=0.1, min_samples_leaf=100, n_estimators=400; total time=   4.8s\n",
      "[CV] END bootstrap=False, max_depth=50, min_impurity_decrease=0.1, min_samples_leaf=100, n_estimators=400; total time=   4.9s\n",
      "[CV] END bootstrap=False, max_depth=50, min_impurity_decrease=0.1, min_samples_leaf=200, n_estimators=200; total time=   2.4s\n",
      "[CV] END bootstrap=False, max_depth=50, min_impurity_decrease=0.1, min_samples_leaf=200, n_estimators=200; total time=   2.4s\n",
      "[CV] END bootstrap=False, max_depth=50, min_impurity_decrease=0.1, min_samples_leaf=200, n_estimators=200; total time=   2.4s\n",
      "[CV] END bootstrap=False, max_depth=50, min_impurity_decrease=0.1, min_samples_leaf=200, n_estimators=300; total time=   3.6s\n",
      "[CV] END bootstrap=False, max_depth=50, min_impurity_decrease=0.1, min_samples_leaf=200, n_estimators=300; total time=   3.5s\n",
      "[CV] END bootstrap=False, max_depth=50, min_impurity_decrease=0.1, min_samples_leaf=200, n_estimators=300; total time=   3.7s\n",
      "[CV] END bootstrap=False, max_depth=50, min_impurity_decrease=0.1, min_samples_leaf=200, n_estimators=400; total time=   4.8s\n",
      "[CV] END bootstrap=False, max_depth=50, min_impurity_decrease=0.1, min_samples_leaf=200, n_estimators=400; total time=   4.9s\n",
      "[CV] END bootstrap=False, max_depth=50, min_impurity_decrease=0.1, min_samples_leaf=200, n_estimators=400; total time=   4.9s\n",
      "[CV] END bootstrap=False, max_depth=50, min_impurity_decrease=0.1, min_samples_leaf=400, n_estimators=200; total time=   2.4s\n",
      "[CV] END bootstrap=False, max_depth=50, min_impurity_decrease=0.1, min_samples_leaf=400, n_estimators=200; total time=   2.4s\n",
      "[CV] END bootstrap=False, max_depth=50, min_impurity_decrease=0.1, min_samples_leaf=400, n_estimators=200; total time=   2.4s\n",
      "[CV] END bootstrap=False, max_depth=50, min_impurity_decrease=0.1, min_samples_leaf=400, n_estimators=300; total time=   3.7s\n",
      "[CV] END bootstrap=False, max_depth=50, min_impurity_decrease=0.1, min_samples_leaf=400, n_estimators=300; total time=   3.5s\n",
      "[CV] END bootstrap=False, max_depth=50, min_impurity_decrease=0.1, min_samples_leaf=400, n_estimators=300; total time=   3.6s\n",
      "[CV] END bootstrap=False, max_depth=50, min_impurity_decrease=0.1, min_samples_leaf=400, n_estimators=400; total time=   4.2s\n",
      "[CV] END bootstrap=False, max_depth=50, min_impurity_decrease=0.1, min_samples_leaf=400, n_estimators=400; total time=   3.1s\n",
      "[CV] END bootstrap=False, max_depth=50, min_impurity_decrease=0.1, min_samples_leaf=400, n_estimators=400; total time=   3.2s\n"
     ]
    },
    {
     "output_type": "execute_result",
     "data": {
      "text/plain": [
       "GridSearchCV(cv=3, estimator=RandomForestClassifier(),\n",
       "             param_grid={'bootstrap': [True, False],\n",
       "                         'max_depth': [None, 10, 50],\n",
       "                         'min_impurity_decrease': [0.0, 0.05, 0.1],\n",
       "                         'min_samples_leaf': [100, 200, 400],\n",
       "                         'n_estimators': [200, 300, 400]},\n",
       "             verbose=2)"
      ]
     },
     "metadata": {},
     "execution_count": 6
    }
   ],
   "source": [
    "grid = GridSearchCV(model, param_grid, refit=True, cv =3, verbose=2)\n",
    "grid.fit(X_train, y_train)"
   ]
  },
  {
   "cell_type": "code",
   "execution_count": 7,
   "metadata": {},
   "outputs": [
    {
     "output_type": "stream",
     "name": "stdout",
     "text": [
      "{'bootstrap': False, 'max_depth': 50, 'min_impurity_decrease': 0.0, 'min_samples_leaf': 100, 'n_estimators': 200}\n"
     ]
    }
   ],
   "source": [
    "print(grid.best_params_)"
   ]
  },
  {
   "cell_type": "code",
   "execution_count": 11,
   "metadata": {},
   "outputs": [
    {
     "output_type": "execute_result",
     "data": {
      "text/plain": [
       "RandomForestClassifier(max_depth=20)"
      ]
     },
     "metadata": {},
     "execution_count": 11
    }
   ],
   "source": [
    "# model_best = RandomForestClassifier(bootstrap = False, max_depth = 50, min_impurity_decrease= 0.0, min_samples_leaf=100, n_estimators=200)\n",
    "model_best = RandomForestClassifier(bootstrap = True, max_depth = 20, min_impurity_decrease= 0.0, min_samples_leaf=1, n_estimators=100)\n",
    "model_best.fit(X_train, y_train)"
   ]
  },
  {
   "cell_type": "code",
   "execution_count": 12,
   "metadata": {},
   "outputs": [
    {
     "output_type": "stream",
     "name": "stdout",
     "text": [
      "Accuracy: 84.48%\n",
      "Default Accuracy: 83.34%\n"
     ]
    }
   ],
   "source": [
    "# make predictions for test data\n",
    "y_pred = model_best.predict(X_test)\n",
    "predictions = [round(value) for value in y_pred]\n",
    "# evaluate predictions\n",
    "accuracy = accuracy_score(y_test, predictions)\n",
    "print(\"Accuracy: %.2f%%\" % (accuracy * 100.0))\n",
    "\n",
    "model_default = RandomForestClassifier()\n",
    "model_default.fit(X_train, y_train)\n",
    "# make predictions for test data\n",
    "y_pred = model_default.predict(X_test)\n",
    "predictions = [round(value) for value in y_pred]\n",
    "# evaluate predictions\n",
    "accuracy = accuracy_score(y_test, predictions)\n",
    "\n",
    "\n",
    "print(\"Default Accuracy: %.2f%%\" % (accuracy * 100.0))"
   ]
  },
  {
   "cell_type": "code",
   "execution_count": null,
   "metadata": {},
   "outputs": [],
   "source": []
  },
  {
   "cell_type": "code",
   "execution_count": null,
   "metadata": {},
   "outputs": [],
   "source": []
  }
 ]
}